{
  "nbformat": 4,
  "nbformat_minor": 0,
  "metadata": {
    "colab": {
      "provenance": [],
      "authorship_tag": "ABX9TyOZtEgHQdOxr2AFz1G/xtA8",
      "include_colab_link": true
    },
    "kernelspec": {
      "name": "python3",
      "display_name": "Python 3"
    },
    "language_info": {
      "name": "python"
    }
  },
  "cells": [
    {
      "cell_type": "markdown",
      "metadata": {
        "id": "view-in-github",
        "colab_type": "text"
      },
      "source": [
        "<a href=\"https://colab.research.google.com/github/Debayan2004/Andrew_Ng-Coursera/blob/main/Python_numpy_vectors.ipynb\" target=\"_parent\"><img src=\"https://colab.research.google.com/assets/colab-badge.svg\" alt=\"Open In Colab\"/></a>"
      ]
    },
    {
      "cell_type": "code",
      "execution_count": 1,
      "metadata": {
        "id": "eSSdbGQ5LGSn"
      },
      "outputs": [],
      "source": [
        "import numpy as np\n",
        "\n",
        "a = np.random.randn(5)"
      ]
    },
    {
      "cell_type": "code",
      "source": [
        "print(a)"
      ],
      "metadata": {
        "colab": {
          "base_uri": "https://localhost:8080/"
        },
        "id": "4IkXrI8vLQ-0",
        "outputId": "8e96d2ac-4566-4cca-fef8-a7ae2c5bfc19"
      },
      "execution_count": 2,
      "outputs": [
        {
          "output_type": "stream",
          "name": "stdout",
          "text": [
            "[-0.10903145 -0.44168631 -0.62638176  1.16115627  1.72488926]\n"
          ]
        }
      ]
    },
    {
      "cell_type": "code",
      "source": [
        "print(a.shape)"
      ],
      "metadata": {
        "colab": {
          "base_uri": "https://localhost:8080/"
        },
        "id": "TpUb7GP6LTj-",
        "outputId": "08741210-da5b-4fb7-a638-da67d2b6a001"
      },
      "execution_count": 3,
      "outputs": [
        {
          "output_type": "stream",
          "name": "stdout",
          "text": [
            "(5,)\n"
          ]
        }
      ]
    },
    {
      "cell_type": "code",
      "source": [
        "print(a.T)"
      ],
      "metadata": {
        "colab": {
          "base_uri": "https://localhost:8080/"
        },
        "id": "GUuX4ypLLW86",
        "outputId": "60b40abf-8244-4702-b464-1e1c8f25198d"
      },
      "execution_count": 4,
      "outputs": [
        {
          "output_type": "stream",
          "name": "stdout",
          "text": [
            "[-0.10903145 -0.44168631 -0.62638176  1.16115627  1.72488926]\n"
          ]
        }
      ]
    },
    {
      "cell_type": "markdown",
      "source": [
        "Value of A and A transpose are same and hence error"
      ],
      "metadata": {
        "id": "3JaoT1fbLjCu"
      }
    },
    {
      "cell_type": "code",
      "source": [
        "print(np.dot(a,a.T))"
      ],
      "metadata": {
        "colab": {
          "base_uri": "https://localhost:8080/"
        },
        "id": "bo2AC4enLfzp",
        "outputId": "7ffc83a6-7adb-4ced-c766-9145903b0b1f"
      },
      "execution_count": 6,
      "outputs": [
        {
          "output_type": "stream",
          "name": "stdout",
          "text": [
            "4.922855612277885\n"
          ]
        }
      ]
    },
    {
      "cell_type": "code",
      "source": [
        "a = np.random.randn(5,1)\n",
        "print(a)"
      ],
      "metadata": {
        "colab": {
          "base_uri": "https://localhost:8080/"
        },
        "id": "XYHF_f0ZLzoS",
        "outputId": "c59908b6-e7a3-4424-fa0e-4fe95dadf05b"
      },
      "execution_count": 8,
      "outputs": [
        {
          "output_type": "stream",
          "name": "stdout",
          "text": [
            "[[0.58601807]\n",
            " [0.62762031]\n",
            " [0.36097413]\n",
            " [1.08739377]\n",
            " [0.0367999 ]]\n"
          ]
        }
      ]
    },
    {
      "cell_type": "code",
      "source": [
        "print(a.T)"
      ],
      "metadata": {
        "colab": {
          "base_uri": "https://localhost:8080/"
        },
        "id": "WbvnATFGL_FM",
        "outputId": "d84b5220-4c59-4120-b833-fdf3c26c7bf5"
      },
      "execution_count": 9,
      "outputs": [
        {
          "output_type": "stream",
          "name": "stdout",
          "text": [
            "[[0.58601807 0.62762031 0.36097413 1.08739377 0.0367999 ]]\n"
          ]
        }
      ]
    },
    {
      "cell_type": "code",
      "source": [
        "print(np.dot(a,a.T))"
      ],
      "metadata": {
        "colab": {
          "base_uri": "https://localhost:8080/"
        },
        "id": "Cd78Qsn7MHp-",
        "outputId": "6b6de9af-b09c-4664-ccdd-bd2819de33f7"
      },
      "execution_count": 10,
      "outputs": [
        {
          "output_type": "stream",
          "name": "stdout",
          "text": [
            "[[0.34341717 0.36779684 0.21153736 0.6372324  0.02156541]\n",
            " [0.36779684 0.39390725 0.22655469 0.68247042 0.02309636]\n",
            " [0.21153736 0.22655469 0.13030232 0.39252102 0.01328381]\n",
            " [0.6372324  0.68247042 0.39252102 1.18242522 0.04001598]\n",
            " [0.02156541 0.02309636 0.01328381 0.04001598 0.00135423]]\n"
          ]
        }
      ]
    },
    {
      "cell_type": "code",
      "source": [],
      "metadata": {
        "id": "GgdmwuGYMP9w"
      },
      "execution_count": null,
      "outputs": []
    }
  ]
}
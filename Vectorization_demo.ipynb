{
  "nbformat": 4,
  "nbformat_minor": 0,
  "metadata": {
    "colab": {
      "provenance": [],
      "authorship_tag": "ABX9TyNO83bNteVOlMkaHCYqAF4P",
      "include_colab_link": true
    },
    "kernelspec": {
      "name": "python3",
      "display_name": "Python 3"
    },
    "language_info": {
      "name": "python"
    }
  },
  "cells": [
    {
      "cell_type": "markdown",
      "metadata": {
        "id": "view-in-github",
        "colab_type": "text"
      },
      "source": [
        "<a href=\"https://colab.research.google.com/github/Debayan2004/Andrew_Ng-Coursera/blob/main/Vectorization_demo.ipynb\" target=\"_parent\"><img src=\"https://colab.research.google.com/assets/colab-badge.svg\" alt=\"Open In Colab\"/></a>"
      ]
    },
    {
      "cell_type": "code",
      "execution_count": 1,
      "metadata": {
        "colab": {
          "base_uri": "https://localhost:8080/"
        },
        "id": "mBpTleErWWA9",
        "outputId": "ec0bce67-8c51-4750-8630-c99aa3275db4"
      },
      "outputs": [
        {
          "output_type": "stream",
          "name": "stdout",
          "text": [
            "[1 2 3 4]\n"
          ]
        }
      ],
      "source": [
        "import numpy as np\n",
        "\n",
        "a = np.array([1,2,3,4])\n",
        "print(a)"
      ]
    },
    {
      "cell_type": "code",
      "source": [
        "import time\n",
        "\n",
        "a = np.random.rand(1000000)\n",
        "b = np.random.rand(1000000)\n",
        "\n",
        "tic = time.time()\n",
        "c = np.dot(a,b)\n",
        "toc = time.time()\n",
        "print(c)\n",
        "print(\"Vectorized version:\"+ str(1000*(toc-tic))+\"ms\")\n",
        "\n",
        "c = 0\n",
        "tic = time.time()\n",
        "for i in range(1000000):\n",
        "    c += a[i]*b[i]\n",
        "toc = time.time()\n",
        "print(c)\n",
        "print(\"For loop:\"+ str(1000*(toc-tic))+\"ms\")"
      ],
      "metadata": {
        "id": "fNk6qv3NW-2K",
        "colab": {
          "base_uri": "https://localhost:8080/"
        },
        "outputId": "eca031f3-1187-47c0-deca-74536fb65aea"
      },
      "execution_count": 8,
      "outputs": [
        {
          "output_type": "stream",
          "name": "stdout",
          "text": [
            "250004.41928081578\n",
            "Vectorized version:1.5482902526855469ms\n",
            "250004.41928081433\n",
            "For loop:538.3358001708984ms\n"
          ]
        }
      ]
    }
  ]
}
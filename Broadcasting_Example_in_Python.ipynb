{
  "nbformat": 4,
  "nbformat_minor": 0,
  "metadata": {
    "colab": {
      "provenance": [],
      "authorship_tag": "ABX9TyPTmlSSVE0nbYt8waqgGgPR",
      "include_colab_link": true
    },
    "kernelspec": {
      "name": "python3",
      "display_name": "Python 3"
    },
    "language_info": {
      "name": "python"
    }
  },
  "cells": [
    {
      "cell_type": "markdown",
      "metadata": {
        "id": "view-in-github",
        "colab_type": "text"
      },
      "source": [
        "<a href=\"https://colab.research.google.com/github/Debayan2004/Andrew_Ng-Coursera/blob/main/Broadcasting_Example_in_Python.ipynb\" target=\"_parent\"><img src=\"https://colab.research.google.com/assets/colab-badge.svg\" alt=\"Open In Colab\"/></a>"
      ]
    },
    {
      "cell_type": "code",
      "execution_count": 3,
      "metadata": {
        "colab": {
          "base_uri": "https://localhost:8080/"
        },
        "id": "DcPNGZ7jGcW_",
        "outputId": "abb21364-fad2-47c2-da28-38f48042afca"
      },
      "outputs": [
        {
          "output_type": "stream",
          "name": "stdout",
          "text": [
            "[[ 56.    0.    4.4  68. ]\n",
            " [  1.2 104.   52.    8. ]\n",
            " [  1.8 135.   99.    0.9]]\n"
          ]
        }
      ],
      "source": [
        "import numpy as np\n",
        "\n",
        "A = np.array([[56.0, 0.0, 4.4, 68.0],\n",
        "              [1.2, 104.0, 52.0, 8.0],\n",
        "              [1.8, 135.0, 99.0, 0.9]])\n",
        "print(A)"
      ]
    },
    {
      "cell_type": "code",
      "source": [
        "cal = A.sum(axis=0)\n",
        "print(cal)"
      ],
      "metadata": {
        "colab": {
          "base_uri": "https://localhost:8080/"
        },
        "id": "PCSjNdpeG6vL",
        "outputId": "fbc9d488-b7b2-46bb-d86f-7c1edbb7379c"
      },
      "execution_count": 4,
      "outputs": [
        {
          "output_type": "stream",
          "name": "stdout",
          "text": [
            "[ 59.  239.  155.4  76.9]\n"
          ]
        }
      ]
    },
    {
      "cell_type": "code",
      "source": [
        "percentage = 100*A/cal.reshape(1,4)\n",
        "print(percentage)"
      ],
      "metadata": {
        "colab": {
          "base_uri": "https://localhost:8080/"
        },
        "id": "3T54HbOBHOVT",
        "outputId": "44082476-2f61-40ea-9334-97f985388672"
      },
      "execution_count": 6,
      "outputs": [
        {
          "output_type": "stream",
          "name": "stdout",
          "text": [
            "[[94.91525424  0.          2.83140283 88.42652796]\n",
            " [ 2.03389831 43.51464435 33.46203346 10.40312094]\n",
            " [ 3.05084746 56.48535565 63.70656371  1.17035111]]\n"
          ]
        }
      ]
    },
    {
      "cell_type": "code",
      "source": [],
      "metadata": {
        "id": "cjppvK4SHWHj"
      },
      "execution_count": null,
      "outputs": []
    }
  ]
}